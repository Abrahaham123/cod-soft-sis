{
 "cells": [
  {
   "cell_type": "code",
   "execution_count": null,
   "id": "2ec46e73-4a1a-4d57-8661-2c84597342fc",
   "metadata": {},
   "outputs": [],
   "source": [
    "nombre = input('cual es tu nombre: ')\n",
    "edad = input('cuantos años tienes: ')\n",
    "aspiracion = input('quiero ser: ')\n",
    "\n",
    "print(\"mi nombre es \", nombre, \" y yo tengo \", edad, \" años de edad. y siempre he querido ser \", aspiracion, \" ¡GRACIAS POR LEER!\")\n"
   ]
  },
  {
   "cell_type": "code",
   "execution_count": null,
   "id": "905ce3e4-8ed5-4d4e-9d97-5c9d99bb8751",
   "metadata": {},
   "outputs": [],
   "source": [
    "nombre = input('como te llamas: ')\n",
    "apeidos = input('cual es tu apeido: ')\n",
    "nombre_invertido = apeidos[::-1] + \" \" +nombre[::-1]\n",
    "print(nombre_invertido)"
   ]
  },
  {
   "cell_type": "code",
   "execution_count": null,
   "id": "b00f65cf-1e0f-41a4-96fe-c6797da095e7",
   "metadata": {},
   "outputs": [],
   "source": [
    "año_nacimiento = int(input('en que año naciste papu: '))\n",
    "salida = año_nacimiento + 100\n",
    "print(salida)"
   ]
  }
 ],
 "metadata": {
  "kernelspec": {
   "display_name": "Python [conda env:base] *",
   "language": "python",
   "name": "conda-base-py"
  },
  "language_info": {
   "codemirror_mode": {
    "name": "ipython",
    "version": 3
   },
   "file_extension": ".py",
   "mimetype": "text/x-python",
   "name": "python",
   "nbconvert_exporter": "python",
   "pygments_lexer": "ipython3",
   "version": "3.12.7"
  }
 },
 "nbformat": 4,
 "nbformat_minor": 5
}
