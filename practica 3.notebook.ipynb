{
 "cells": [
  {
   "cell_type": "code",
   "execution_count": 9,
   "id": "33cb03ee-3bb8-4e5d-a49a-7505e820f415",
   "metadata": {},
   "outputs": [
    {
     "name": "stdin",
     "output_type": "stream",
     "text": [
      "Ingresael valor de la hora que quieras consultar:  6\n"
     ]
    },
    {
     "name": "stdout",
     "output_type": "stream",
     "text": [
      "La hora en las siguientes ciudades seria: \n",
      "la hora de dublin es  12\n",
      "la hora de londres es  13\n",
      "la hora de tokio es  21\n",
      "la hora de los_angees  4\n",
      "la hora de nueva_york  8\n",
      "la hora de nueva_deli  17.3\n"
     ]
    }
   ],
   "source": [
    "dublin = +6\n",
    "londres = +7\n",
    "tokio = +15\n",
    "los_angeles = -2\n",
    "nueva_york = +2\n",
    "nueva_deli = +11.3\n",
    "\n",
    "hora_mexico= input(\"Ingresael valor de la hora que quieras consultar: \")\n",
    "hora_mexico=int(hora_mexico)\n",
    "print(\"La hora en las siguientes ciudades seria: \")\n",
    "print(\"la hora de dublin es \"  , hora_mexico+dublin)\n",
    "print(\"la hora de londres es \" , hora_mexico+londres)\n",
    "print(\"la hora de tokio es \"  , hora_mexico+tokio)\n",
    "print(\"la hora de los_angees \" , hora_mexico+los_angeles)\n",
    "print(\"la hora de nueva_york \" , hora_mexico+nueva_york)\n",
    "print(\"la hora de nueva_deli \" , hora_mexico+nueva_deli)      "
   ]
  }
 ],
 "metadata": {
  "kernelspec": {
   "display_name": "Python [conda env:base] *",
   "language": "python",
   "name": "conda-base-py"
  },
  "language_info": {
   "codemirror_mode": {
    "name": "ipython",
    "version": 3
   },
   "file_extension": ".py",
   "mimetype": "text/x-python",
   "name": "python",
   "nbconvert_exporter": "python",
   "pygments_lexer": "ipython3",
   "version": "3.12.7"
  }
 },
 "nbformat": 4,
 "nbformat_minor": 5
}
