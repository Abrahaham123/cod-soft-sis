{
  "cells": [
    {
      "cell_type": "code",
      "execution_count": 1,
      "id": "8ef40c47-351b-4fec-aaf5-bf32a76f369b",
      "metadata": {},
      "outputs": [
        {
          "ename": "SyntaxError",
          "evalue": "invalid syntax (1851416786.py, line 11)",
          "output_type": "error",
          "traceback": [
            "\u001b[1;36m  Cell \u001b[1;32mIn[1], line 11\u001b[1;36m\u001b[0m\n\u001b[1;33m    factorial = factorial * numero inspector\u001b[0m\n\u001b[1;37m                                   ^\u001b[0m\n\u001b[1;31mSyntaxError\u001b[0m\u001b[1;31m:\u001b[0m invalid syntax\n"
          ]
        }
      ],
      "source": [
        "\n",
        "num = int(input('Ingresa un numero: '))\n",
        "\n",
        "\n",
        "\n",
        "factorial = 1\n",
        "\n",
        "\n",
        "\n",
        "for numero_inspector in range (num, 1,-1):\n",
        "\n",
        "    factorial = factorial * numero inspector\n",
        "\n",
        "print(factorial)"
      ]
    },
    {
      "cell_type": "code",
      "execution_count": 24,
      "id": "d30ba201-7e42-4e7f-9556-b19f848392bc",
      "metadata": {},
      "outputs": [
        {
          "name": "stdout",
          "output_type": "stream",
          "text": [
            "Ingresa un numero:  762\n"
          ]
        },
        {
          "name": "stdout",
          "output_type": "stream",
          "text": [
            "El resultado es: 15\n"
          ]
        }
      ],
      "source": [
        "\n",
        "\n",
        "entrada = input('Ingresa un numero: ')\n",
        "\n",
        "lista = list(entrada)\n",
        "\n",
        "\n",
        "\n",
        "init = 0\n",
        "\n",
        "for i in lista:\n",
        "\n",
        "    init = init + int(i)\n",
        "\n",
        "print('El resultado es:', init)"
      ]
    },
    {
      "cell_type": "code",
      "execution_count": null,
      "id": "2426d393-1f8e-4c3f-8bdf-beda907ee313",
      "metadata": {},
      "outputs": [],
      "source": [
        "\n",
        "entrada = input('INGRESA 10 NUMEROS > ')\n",
        "\n",
        "numeros = entrada.split(',')\n",
        "\n",
        "\n",
        "\n",
        "\n",
        "resultado = 1\n",
        "\n",
        "num_elementradaos = len(numeros)\n",
        "\n",
        "for i in numeros:\n",
        "\n",
        "    resultado *= int(i)\n",
        "\n",
        "resultado_promedio = resultado / num_elementradaos\n",
        "\n",
        "print(resultado)"
      ]
    },
    {
      "cell_type": "code",
      "execution_count": null,
      "id": "a945dc15-8fb5-45f1-a551-ea6fc16cea40",
      "metadata": {},
      "outputs": [],
      "source": []
    },
    {
      "cell_type": "code",
      "execution_count": null,
      "id": "d448a14a",
      "metadata": {},
      "outputs": [],
      "source": []
    }
  ],
  "metadata": {
    "kernelspec": {
      "display_name": "Python 3",
      "language": "python",
      "name": "python3"
    },
    "language_info": {
      "codemirror_mode": {
        "name": "ipython",
        "version": 3
      },
      "file_extension": ".py",
      "mimetype": "text/x-python",
      "name": "python",
      "nbconvert_exporter": "python",
      "pygments_lexer": "ipython3",
      "version": "3.12.9"
    }
  },
  "nbformat": 4,
  "nbformat_minor": 5
}
