{
 "cells": [
  {
   "cell_type": "code",
   "execution_count": null,
   "metadata": {},
   "outputs": [],
   "source": [
    "mi_tupla = (10, \"Hola\", 3.14)\n",
    "print(mi_tupla)\n",
    "\n",
    "otra_tupla = (1, 2, 3, 4, 5)\n",
    "print(otra_tupla[2])\n",
    "\n",
    "\n",
    "tupla_mixta = (mi_tupla, otra_tupla)\n",
    "print(tupla_mixta)\n",
    "\n",
    "tuple_letras = (\"a\", \"b\", \"c\")\n",
    "a, b, c = tuple_letras\n",
    "print(a, b, c)\n",
    "\n",
    "nums_raros = (1, 3, 5, 7, 9)\n",
    "print(7 in nums_raros)\n",
    "\n",
    "mis_numeros = (0, 1, 2, 3, 4, 5)\n",
    "print(mis_numeros[2:5])\n",
    "\n",
    "numerotes = (10, 20, 30, 40, 50)\n",
    "print(len(numerotes))"
   ]
  }
 ],
 "metadata": {
  "kernelspec": {
   "display_name": "Python 3",
   "language": "python",
   "name": "python3"
  },
  "language_info": {
   "name": "python",
   "version": "3.12.9"
  }
 },
 "nbformat": 4,
 "nbformat_minor": 2
}
